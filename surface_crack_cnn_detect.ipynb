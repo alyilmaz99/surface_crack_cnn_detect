{
  "nbformat": 4,
  "nbformat_minor": 0,
  "metadata": {
    "colab": {
      "provenance": [],
      "authorship_tag": "ABX9TyMlhr1ogos6dMFmGb5hf4/5",
      "include_colab_link": true
    },
    "kernelspec": {
      "name": "python3",
      "display_name": "Python 3"
    },
    "language_info": {
      "name": "python"
    }
  },
  "cells": [
    {
      "cell_type": "markdown",
      "metadata": {
        "id": "view-in-github",
        "colab_type": "text"
      },
      "source": [
        "<a href=\"https://colab.research.google.com/github/alyilmaz99/surface_crack_cnn_detect/blob/main/surface_crack_cnn_detect.ipynb\" target=\"_parent\"><img src=\"https://colab.research.google.com/assets/colab-badge.svg\" alt=\"Open In Colab\"/></a>"
      ]
    },
    {
      "cell_type": "code",
      "execution_count": null,
      "metadata": {
        "id": "EwaEtYIz-kvd"
      },
      "outputs": [],
      "source": [
        "import numpy as np\n",
        "import pandas as pd\n",
        "import tensorflow as tf\n",
        "import os\n",
        "import matplotlib.pyplot as plt\n",
        "from zipfile import ZipFile\n",
        "\n",
        "from PIL import Image\n",
        "from tensorflow import keras\n",
        "from sklearn.model_selection import train_test_split\n",
        "from sklearn.utils import shuffle\n",
        "from keras.preprocessing import image\n",
        "##https://www.kaggle.com/datasets/arunrk7/surface-crack-detection"
      ]
    },
    {
      "cell_type": "code",
      "source": [
        "! pip install -q kaggle"
      ],
      "metadata": {
        "id": "M23Tb_VbN8hz"
      },
      "execution_count": null,
      "outputs": []
    },
    {
      "cell_type": "code",
      "source": [
        "!pip install -q opendatasets\n",
        "import opendatasets as od\n",
        "\n",
        "# od.download('https://www.kaggle.com/datasets/arunrk7/surface-crack-detection')\n",
        "\n"
      ],
      "metadata": {
        "colab": {
          "base_uri": "https://localhost:8080/"
        },
        "id": "_c7NQfLpH_FR",
        "outputId": "fd7daed8-d741-47fa-8261-35c7306309d8"
      },
      "execution_count": null,
      "outputs": [
        {
          "output_type": "stream",
          "name": "stdout",
          "text": [
            "Please provide your Kaggle credentials to download this dataset. Learn more: http://bit.ly/kaggle-creds\n",
            "Your Kaggle username: alyyilmaz\n",
            "Your Kaggle Key: ··········\n",
            "Downloading surface-crack-detection.zip to ./surface-crack-detection\n"
          ]
        },
        {
          "output_type": "stream",
          "name": "stderr",
          "text": [
            "100%|██████████| 233M/233M [00:02<00:00, 89.0MB/s]\n"
          ]
        },
        {
          "output_type": "stream",
          "name": "stdout",
          "text": [
            "\n"
          ]
        }
      ]
    },
    {
      "cell_type": "code",
      "source": [
        "data_folder = ''\n",
        "\n",
        "infected_folder = os.path.join(data_folder, '/content/surface-crack-detection/Positive')\n",
        "notinfected_folder = os.path.join(data_folder, '/content/surface-crack-detection/Negative')\n",
        "images = []\n",
        "labels = []\n",
        "\n",
        "\n",
        "for filename in os.listdir(infected_folder):\n",
        "    if filename.endswith(\".jpg\"):\n",
        "        img = Image.open(os.path.join(infected_folder, filename))\n",
        "        img = img.resize((224, 224))\n",
        "        img = np.array(img)\n",
        "        if len(img.shape) == 3:\n",
        "            images.append(img / 255.0)\n",
        "            labels.append(1)\n",
        "for filename in os.listdir(notinfected_folder):\n",
        "    if filename.endswith(\".jpg\"):\n",
        "        img = Image.open(os.path.join(notinfected_folder, filename))\n",
        "        img = img.resize((224, 224))\n",
        "        img = np.array(img)\n",
        "        if len(img.shape) == 3:\n",
        "            images.append(img / 255.0)\n",
        "            labels.append(0)\n"
      ],
      "metadata": {
        "id": "Q9Nzx_EYAaTw"
      },
      "execution_count": null,
      "outputs": []
    },
    {
      "cell_type": "code",
      "source": [
        "images = np.array(images)\n",
        "labels = np.array(labels)\n",
        "\n",
        "x_train, x_val, y_train, y_val = train_test_split(images, labels, test_size=0.2, random_state=42)\n",
        "x_train, y_train = shuffle(x_train, y_train, random_state=42)\n",
        "early_stopping = keras.callbacks.EarlyStopping(monitor='val_loss', patience=10)\n"
      ],
      "metadata": {
        "id": "UnRWMqgXZ_QW"
      },
      "execution_count": null,
      "outputs": []
    },
    {
      "cell_type": "code",
      "source": [
        "notinfected_indices = [i for i, label in enumerate(labels) if label == 0]\n",
        "\n",
        "for i in range(5):\n",
        "    plt.subplot(3, 5, i + 1)\n",
        "    plt.imshow(images[notinfected_indices[i]])\n",
        "    plt.title(\"Notinfected\")\n",
        "    plt.axis('off')\n",
        "\n",
        "plt.tight_layout()\n",
        "plt.show()"
      ],
      "metadata": {
        "id": "SwreaPzXaA9u"
      },
      "execution_count": null,
      "outputs": []
    },
    {
      "cell_type": "code",
      "source": [
        "\n",
        "model = keras.Sequential()\n",
        "model.add(keras.layers.Conv2D(32, (3, 3), activation='relu', input_shape=(224, 224, 3)))\n",
        "model.add(keras.layers.MaxPooling2D((2, 2)))\n",
        "model.add(keras.layers.Conv2D(64, (3, 3), activation='relu'))\n",
        "model.add(keras.layers.MaxPooling2D((2, 2)))\n",
        "\n",
        "model.add(keras.layers.Dropout(0.6))\n",
        "\n",
        "model.add(keras.layers.Conv2D(64, (3, 3), activation='relu'))\n",
        "model.add(keras.layers.Flatten())\n",
        "\n",
        "model.add(keras.layers.Dropout(0.6))\n",
        "\n",
        "model.add(keras.layers.Dense(64, activation='relu'))\n",
        "model.add(keras.layers.Dense(2))"
      ],
      "metadata": {
        "id": "yQ6mIF8XaCk_"
      },
      "execution_count": null,
      "outputs": []
    },
    {
      "cell_type": "code",
      "source": [
        "model.compile(\n",
        "    optimizer='adam',\n",
        "    loss=tf.keras.losses.SparseCategoricalCrossentropy(from_logits=True),\n",
        "    metrics=['accuracy']\n",
        ")\n"
      ],
      "metadata": {
        "id": "gIce_mKfaEER"
      },
      "execution_count": null,
      "outputs": []
    },
    {
      "cell_type": "code",
      "source": [
        "history = model.fit(\n",
        "    x_train,\n",
        "    y_train,\n",
        "    epochs=50,\n",
        "    batch_size=32,\n",
        "    validation_data=(x_val, y_val),\n",
        "    callbacks=[early_stopping]\n",
        ")"
      ],
      "metadata": {
        "id": "4WD3_LMYaGjg"
      },
      "execution_count": null,
      "outputs": []
    },
    {
      "cell_type": "code",
      "source": [
        "test_image = Image.open('data/test/img7.jpg')\n",
        "test_image = test_image.resize((224, 224))\n",
        "test_image = np.array(test_image) / 255.0\n",
        "\n",
        "\n",
        "predictions = model.predict(np.expand_dims(test_image, axis=0))\n",
        "\n",
        "predicted_class = np.argmax(predictions, axis=1)\n",
        "\n",
        "if predicted_class == 0:\n",
        "    predict = \"Notifected\"\n",
        "\n",
        "else:\n",
        "   predict = \"Infected\"\n",
        "\n",
        "plt.imshow(test_image)\n",
        "plt.title( predict)\n",
        "plt.axis('off')\n",
        "plt.show()"
      ],
      "metadata": {
        "id": "T5hOdMxHaHvQ"
      },
      "execution_count": null,
      "outputs": []
    }
  ]
}